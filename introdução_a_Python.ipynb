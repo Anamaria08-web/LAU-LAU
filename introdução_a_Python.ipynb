{
  "nbformat": 4,
  "nbformat_minor": 0,
  "metadata": {
    "colab": {
      "provenance": [],
      "authorship_tag": "ABX9TyNkysXTQykamFu/nZT7rdZf",
      "include_colab_link": true
    },
    "kernelspec": {
      "name": "python3",
      "display_name": "Python 3"
    },
    "language_info": {
      "name": "python"
    }
  },
  "cells": [
    {
      "cell_type": "markdown",
      "metadata": {
        "id": "view-in-github",
        "colab_type": "text"
      },
      "source": [
        "<a href=\"https://colab.research.google.com/github/Anamaria08-web/LAU-LAU/blob/main/introdu%C3%A7%C3%A3o_a_Python.ipynb\" target=\"_parent\"><img src=\"https://colab.research.google.com/assets/colab-badge.svg\" alt=\"Open In Colab\"/></a>"
      ]
    },
    {
      "cell_type": "markdown",
      "source": [
        "## Aula 1"
      ],
      "metadata": {
        "id": "5hQftnj1lr-S"
      }
    },
    {
      "cell_type": "code",
      "execution_count": null,
      "metadata": {
        "colab": {
          "base_uri": "https://localhost:8080/"
        },
        "id": "_NZSWypyiPDt",
        "outputId": "a320734a-4503-463c-e8d5-29f60f70ba51"
      },
      "outputs": [
        {
          "output_type": "stream",
          "name": "stdout",
          "text": [
            "I Competição de programação da Start\n"
          ]
        }
      ],
      "source": [
        "print(\"I Competição de programação da Start\")"
      ]
    },
    {
      "cell_type": "code",
      "source": [
        "ano = \"II\"\n",
        "\n",
        "print(ano, \"Competição de programação da Start\")\n"
      ],
      "metadata": {
        "colab": {
          "base_uri": "https://localhost:8080/"
        },
        "id": "JMFp2unmjpw1",
        "outputId": "82e6ab05-06e3-4fc2-e8c5-b31bbbf119f3"
      },
      "execution_count": null,
      "outputs": [
        {
          "output_type": "stream",
          "name": "stdout",
          "text": [
            "II Competição de programação da Start\n"
          ]
        }
      ]
    },
    {
      "cell_type": "code",
      "source": [
        "print(f\"{ano} Competição de programação da Start\")"
      ],
      "metadata": {
        "colab": {
          "base_uri": "https://localhost:8080/"
        },
        "id": "CpZmyZ7DkfAk",
        "outputId": "76856692-5c26-4c16-e453-c64f8fedbb38"
      },
      "execution_count": null,
      "outputs": [
        {
          "output_type": "stream",
          "name": "stdout",
          "text": [
            "II Competição de programação da Start\n"
          ]
        }
      ]
    },
    {
      "cell_type": "markdown",
      "source": [
        "## Aula 2"
      ],
      "metadata": {
        "id": "lS-GvGApmeQ2"
      }
    },
    {
      "cell_type": "markdown",
      "source": [
        "Contexto:\n",
        "\n",
        "Uma escola está promovendo uma campanha de incentivo à leitura, em que cada estudante recebe pontos ao concluir livros. Esses pontos podem ser trocados por diferentes prêmios da escola, e as categorias de livros têm valores diferntes de pontos:\n",
        "\n",
        "Ficção: 8 pontos;\n",
        "Não ficção: 8 ponto;\n",
        "Infantis: 6 pontos.\n",
        "Rodrigo, um estudante dessa escola, leu um livro de cada categoria e, agora, quer saber quantos pontos acumulou com sua leitura. Para isso, você deve criar um programa em Python que tenha as seguintes características:\n",
        "\n",
        "Consiga armazenar os pontos de cada categoria de livro;\n",
        "Calcule os pontos de Rodrigo;\n",
        "Apresente na tela os pontos de Rodrigo.\n"
      ],
      "metadata": {
        "id": "ogca9rw0ml-4"
      }
    },
    {
      "cell_type": "code",
      "source": [
        "livro_ficcao = 10\n",
        "livro_nficcao = 8\n",
        "livro_infantil = 6\n",
        "\n",
        "pontos_rodrigo = livro_ficcao + livro_nficcao + livro_infantil\n",
        "\n",
        "print(f\"Os pontos totais do Rodrigo são: {pontos_rodrigo}\")"
      ],
      "metadata": {
        "colab": {
          "base_uri": "https://localhost:8080/"
        },
        "id": "OgQiCAD9nHsi",
        "outputId": "c67a7099-c773-4865-954e-3a1f03d6d330"
      },
      "execution_count": null,
      "outputs": [
        {
          "output_type": "stream",
          "name": "stdout",
          "text": [
            "Os pontos totais do Rodrigo são: 24\n"
          ]
        }
      ]
    },
    {
      "cell_type": "markdown",
      "source": [
        "Ana, outra estudante dessa escola, participou da campanha e leu dois livros de ficção e cinco livros infantis. Para resolvê-lo, responda as seguintes perguntas programando em Python:\n",
        "\n",
        "Quantos pontos Ana acumulou ao final da leitura?\n",
        "Qual é o total de pontos acumulados por Rodrigo e Ana juntos?\n"
      ],
      "metadata": {
        "id": "T7l_JbtDpTGG"
      }
    },
    {
      "cell_type": "markdown",
      "source": [
        "## Aula 3"
      ],
      "metadata": {
        "id": "8PHM6vYGp8cx"
      }
    },
    {
      "cell_type": "markdown",
      "source": [
        "A turma do segundo ano encontrou um envelope cheio de figurinhas. Para garantir uma divisão justa, todos concordaram com a sugestão de João, o dono do envelope. Cada amigo, exceto João, deve receber exatamente o mesmo número de figurinhas. João deve receber o dobro da quantidade que cada amigo recebe. Pode ser que o fato de João ser o dono do envelope tenha ajudado a convencer os amigos, mas também contribui o fato de que, do jeito proposto, a divisão era exata, sem sobrar nem faltar figurinhas.\n",
        "\n",
        "Problema:\n",
        "\n",
        "Crie um programa que determine a quantidade de figurinhas que João recebeu, dado o numero total de figurinhas no envelope e o número de amigos de joão.\n",
        "\n",
        "Entrada:\n",
        "\n",
        " A primeira linha contém um número inteiro total_figurinhas, que reprsenta o número de figurinhas no envelope.\n",
        " A segubda linha contém um número inteiro numero_amigos, que representa a quantidade de amigos de João(excluindo o próprio joão)\n"
      ],
      "metadata": {
        "id": "aMRSbW9IqLNs"
      }
    },
    {
      "cell_type": "code",
      "source": [
        "total_de_figurinhas = int(input(\"Digite o total de figurinhas: \"))\n",
        "numero_de_amigos = int(input(\"Digite o número de amigos: \"))\n",
        "\n",
        "figurinhas_amigos = total_de_figurinhas // (numero_de_amigos + 2)\n",
        "figurinhas_joao = 2 * figurinhas_amigos\n",
        "\n",
        "print(\"João recebeu\", figurinhas_joao, \"figurinhas\")\n"
      ],
      "metadata": {
        "id": "85siSo56sWtA",
        "colab": {
          "base_uri": "https://localhost:8080/"
        },
        "outputId": "f6d7d854-3b31-41a0-d528-80698dc5d9d0"
      },
      "execution_count": 2,
      "outputs": [
        {
          "output_type": "stream",
          "name": "stdout",
          "text": [
            "Digite o total de figurinhas: 100\n",
            "Digite o número de amigos: 5\n",
            "João recebeu 28 figurinhas\n"
          ]
        }
      ]
    },
    {
      "cell_type": "markdown",
      "source": [
        "Após dividir as figurinhas no recreio, João percebeu que ainda havia algumas figurinhas extras em sua mochila. Ele decidiu que essas figurinhas extras também devem ser distribuídas de forma justa entre ele e seus amigos, mantendo a mesma regra.\n",
        "\n",
        "Cada amigo receberá uma quantidade igual de figurinhas, e João receberá o dobro da quantidade que cada amigo recebe. Ajude João a distribuir todas as figurinhas, incluindo as extras, de maneira justa, sem deixar nenhuma figurinha sobrando."
      ],
      "metadata": {
        "id": "sKvq2htbwkYj"
      }
    },
    {
      "cell_type": "markdown",
      "source": [
        "## Aula 4"
      ],
      "metadata": {
        "id": "lFxZJ2vNxDPa"
      }
    },
    {
      "cell_type": "markdown",
      "source": [
        "Bondinho-link:https://olimpiada.ic.unicamp.br/pratique/pj/2017/f1/bondinho/\n",
        "\n",
        "A turma de um colégio está organizando uma excursão para a serra e, para chegar ao pico da montanha, todos os alunos e monitores devem usar um bondinho. No entanto, a cabine do bondinho tem uma capacidade máxima de 50 pessoas por viagem. Precisamos criar um programa que verifique se todos os alunos e monitores podem ser transportados em apenas uma viagem.\n",
        "\n",
        "**Entrada**\n",
        "Um numero interiro numero_alunos, representando a quantidade de alunos na exercurção.\n",
        "Um numero inteiro numero_monitores, representando a quantidade de monitores na execurção"
      ],
      "metadata": {
        "id": "7xzFDTQ9zLUM"
      }
    },
    {
      "cell_type": "code",
      "source": [
        "numero_de_alunos = int(input(\"Digite a quantidade de alunos: \"))\n",
        "numero_de_monitores = int(input(\"Digite a quantidade de monitores: \"))\n",
        "resposta_positiva = \"sim, pode ir\"\n",
        "resposta_negativa = \"não pode ir\"\n",
        "\n",
        "if numero_de_alunos + numero_de_monitores <= 50:\n",
        "    print(resposta_positiva)\n",
        "else:\n",
        "    print(resposta_negativa)"
      ],
      "metadata": {
        "colab": {
          "base_uri": "https://localhost:8080/"
        },
        "id": "hcV7tsBM04AE",
        "outputId": "6be96655-f4bd-4409-9282-189a18b962b4"
      },
      "execution_count": 4,
      "outputs": [
        {
          "output_type": "stream",
          "name": "stdout",
          "text": [
            "Digite a quantidade de alunos: 10\n",
            "Digite a quantidade de monitores: 10\n",
            "sim, pode ir\n"
          ]
        }
      ]
    },
    {
      "cell_type": "markdown",
      "source": [
        "##Desafio\n",
        "\n",
        "Imagine que, infelizmente, o bondinho que carrega 50 pessoas está em manutenção. Agora, todos precisarão usar um bondinho menos sofisticado, que só pode levar 30 pessoas. Além disso, oito professores do colégio também participarão da excursão. Como garantimos que o número total de pessoas no bondinho, incluindo alunos, monitores e professores, não ultrapasse a capacidade máxima de 30 pessoas?\n",
        "\n",
        "O desafio é escrever um programa que verifique se é possível levar todos em apenas uma viagem.\n",
        "\n"
      ],
      "metadata": {
        "id": "hip2Z4ie2Lpk"
      }
    }
  ]
}